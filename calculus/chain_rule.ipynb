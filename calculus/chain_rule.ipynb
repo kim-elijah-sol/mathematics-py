{
 "cells": [
  {
   "cell_type": "code",
   "execution_count": 15,
   "metadata": {},
   "outputs": [
    {
     "name": "stdout",
     "output_type": "stream",
     "text": [
      "6*x*(x**2 + 1)**2\n",
      "6*x*(x**2 + 1)**2\n"
     ]
    }
   ],
   "source": [
    "from sympy import *\n",
    "\n",
    "x, y = symbols('x y')\n",
    "\n",
    "# _y 에서 y 는 출력 변수이지만 , z 에서는 입력 변수이다.\n",
    "# 그렇기에 이 두 함수는 연결되어 있다.\n",
    "_y = x**2 + 1\n",
    "dy_dx = diff(_y)\n",
    "\n",
    "# 두 번째 도함수이다.\n",
    "z = y**3 -2\n",
    "dz_dy = diff(z)\n",
    "\n",
    "dz_dx_chain = (dy_dx * dz_dy).subs(y, _y)\n",
    "dz_dx_no_chain = diff(z.subs(y, _y))\n",
    "\n",
    "# 연쇄 법칙을 사용한 경우와 대체 방식을 사용한 도함수는 같은 결과가 반환된다.\n",
    "# 이로 연쇄 법칙을 증명한다.\n",
    "print(dz_dx_chain)\n",
    "print(dz_dx_no_chain)\n"
   ]
  }
 ],
 "metadata": {
  "kernelspec": {
   "display_name": "Python 3",
   "language": "python",
   "name": "python3"
  },
  "language_info": {
   "codemirror_mode": {
    "name": "ipython",
    "version": 3
   },
   "file_extension": ".py",
   "mimetype": "text/x-python",
   "name": "python",
   "nbconvert_exporter": "python",
   "pygments_lexer": "ipython3",
   "version": "3.7.4"
  },
  "orig_nbformat": 4,
  "vscode": {
   "interpreter": {
    "hash": "949777d72b0d2535278d3dc13498b2535136f6dfe0678499012e853ee9abcab1"
   }
  }
 },
 "nbformat": 4,
 "nbformat_minor": 2
}
