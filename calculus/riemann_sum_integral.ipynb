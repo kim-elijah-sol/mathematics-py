{
 "cells": [
  {
   "cell_type": "markdown",
   "metadata": {},
   "source": [
    "### 리만 합(Riemann sum)으로 적분 근사치 구하기\n",
    "\n",
    "참고 문서 : [위키백과 [리만 합]](https://ko.wikipedia.org/wiki/%EB%A6%AC%EB%A7%8C_%ED%95%A9)"
   ]
  },
  {
   "cell_type": "code",
   "execution_count": 2,
   "metadata": {},
   "outputs": [
    {
     "name": "stdout",
     "output_type": "stream",
     "text": [
      "면적 근사치 구하기 [x: 0~1 | 5영역으로 분할] : 1.33\n",
      "면적 근사치 구하기 [x: 0~1 | 1,000영역으로 분할] : 1.333333250000001\n",
      "면적 근사치 구하기 [x: 0~1 | 1,000,000영역으로 분할] : 1.3333333333332733\n",
      "1.333~ 값에 수렴한다.\n"
     ]
    }
   ],
   "source": [
    "def riemann_sum_integral(a,b,n,f):\n",
    "    delta_x = (b - a) / n\n",
    "    total_sum = 0\n",
    "\n",
    "    for i in range(1, n + 1):\n",
    "        midpoint = 0.5 * (2 * a + delta_x * (2 * i - 1))\n",
    "        total_sum += f(midpoint)\n",
    "\n",
    "    return total_sum * delta_x\n",
    "\n",
    "def fx(x):\n",
    "    return x**2 + 1\n",
    "\n",
    "print(f\"면적 근사치 구하기 [x: 0~1 | 5영역으로 분할] : {riemann_sum_integral(0,1,5,fx)}\")\n",
    "print(f\"면적 근사치 구하기 [x: 0~1 | 1,000영역으로 분할] : {riemann_sum_integral(0,1,1000,fx)}\")\n",
    "print(f\"면적 근사치 구하기 [x: 0~1 | 1,000,000영역으로 분할] : {riemann_sum_integral(0,1,1000000,fx)}\")\n",
    "\n",
    "print(\"1.333~ 값에 수렴한다.\")"
   ]
  }
 ],
 "metadata": {
  "kernelspec": {
   "display_name": "Python 3",
   "language": "python",
   "name": "python3"
  },
  "language_info": {
   "codemirror_mode": {
    "name": "ipython",
    "version": 3
   },
   "file_extension": ".py",
   "mimetype": "text/x-python",
   "name": "python",
   "nbconvert_exporter": "python",
   "pygments_lexer": "ipython3",
   "version": "3.8.10"
  },
  "orig_nbformat": 4,
  "vscode": {
   "interpreter": {
    "hash": "916dbcbb3f70747c44a77c7bcd40155683ae19c65e1c03b4aa3499c5328201f1"
   }
  }
 },
 "nbformat": 4,
 "nbformat_minor": 2
}
